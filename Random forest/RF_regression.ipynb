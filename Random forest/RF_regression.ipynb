{
 "cells": [
  {
   "cell_type": "markdown",
   "metadata": {},
   "source": [
    "Car Price Detection"
   ]
  },
  {
   "cell_type": "markdown",
   "metadata": {},
   "source": [
    "1) Problem statement.\n",
    "This dataset comprises used cars sold on cardehko.com in India as well as important features of these cars.\n",
    "If user can predict the price of the car based on input features.\n",
    "Prediction results can be used to give new seller the price suggestion based on market condition."
   ]
  },
  {
   "cell_type": "markdown",
   "metadata": {},
   "source": [
    "2) Data Collection.\n",
    "The Dataset is collected from scrapping from cardheko webiste\n",
    "The data consists of 13 column and 15411 rows."
   ]
  },
  {
   "cell_type": "code",
   "execution_count": 33,
   "metadata": {},
   "outputs": [
    {
     "name": "stdout",
     "output_type": "stream",
     "text": [
      "Defaulting to user installation because normal site-packages is not writeable\n",
      "Requirement already satisfied: plotly in c:\\users\\kumma\\appdata\\roaming\\python\\python312\\site-packages (5.19.0)\n",
      "Requirement already satisfied: tenacity>=6.2.0 in c:\\users\\kumma\\appdata\\roaming\\python\\python312\\site-packages (from plotly) (8.2.3)\n",
      "Requirement already satisfied: packaging in c:\\users\\kumma\\appdata\\roaming\\python\\python312\\site-packages (from plotly) (23.2)\n"
     ]
    }
   ],
   "source": [
    "!pip install plotly"
   ]
  },
  {
   "cell_type": "code",
   "execution_count": 34,
   "metadata": {},
   "outputs": [],
   "source": [
    "import pandas as pd\n",
    "import numpy as np\n",
    "import matplotlib.pyplot as plt\n",
    "import seaborn as sns\n",
    "import plotly.express as px\n",
    "import warnings\n",
    "warnings.filterwarnings(\"ignore\")\n",
    "%matplotlib inline"
   ]
  },
  {
   "cell_type": "code",
   "execution_count": 35,
   "metadata": {},
   "outputs": [],
   "source": [
    "df = pd.read_csv(r\"C:\\Users\\kumma\\Data_science_Projects\\Random forest\\cardekho_imputated.csv\",index_col=[0])"
   ]
  },
  {
   "cell_type": "code",
   "execution_count": 36,
   "metadata": {},
   "outputs": [
    {
     "data": {
      "text/html": [
       "<div>\n",
       "<style scoped>\n",
       "    .dataframe tbody tr th:only-of-type {\n",
       "        vertical-align: middle;\n",
       "    }\n",
       "\n",
       "    .dataframe tbody tr th {\n",
       "        vertical-align: top;\n",
       "    }\n",
       "\n",
       "    .dataframe thead th {\n",
       "        text-align: right;\n",
       "    }\n",
       "</style>\n",
       "<table border=\"1\" class=\"dataframe\">\n",
       "  <thead>\n",
       "    <tr style=\"text-align: right;\">\n",
       "      <th></th>\n",
       "      <th>car_name</th>\n",
       "      <th>brand</th>\n",
       "      <th>model</th>\n",
       "      <th>vehicle_age</th>\n",
       "      <th>km_driven</th>\n",
       "      <th>seller_type</th>\n",
       "      <th>fuel_type</th>\n",
       "      <th>transmission_type</th>\n",
       "      <th>mileage</th>\n",
       "      <th>engine</th>\n",
       "      <th>max_power</th>\n",
       "      <th>seats</th>\n",
       "      <th>selling_price</th>\n",
       "    </tr>\n",
       "  </thead>\n",
       "  <tbody>\n",
       "    <tr>\n",
       "      <th>0</th>\n",
       "      <td>Maruti Alto</td>\n",
       "      <td>Maruti</td>\n",
       "      <td>Alto</td>\n",
       "      <td>9</td>\n",
       "      <td>120000</td>\n",
       "      <td>Individual</td>\n",
       "      <td>Petrol</td>\n",
       "      <td>Manual</td>\n",
       "      <td>19.70</td>\n",
       "      <td>796</td>\n",
       "      <td>46.30</td>\n",
       "      <td>5</td>\n",
       "      <td>120000</td>\n",
       "    </tr>\n",
       "    <tr>\n",
       "      <th>1</th>\n",
       "      <td>Hyundai Grand</td>\n",
       "      <td>Hyundai</td>\n",
       "      <td>Grand</td>\n",
       "      <td>5</td>\n",
       "      <td>20000</td>\n",
       "      <td>Individual</td>\n",
       "      <td>Petrol</td>\n",
       "      <td>Manual</td>\n",
       "      <td>18.90</td>\n",
       "      <td>1197</td>\n",
       "      <td>82.00</td>\n",
       "      <td>5</td>\n",
       "      <td>550000</td>\n",
       "    </tr>\n",
       "    <tr>\n",
       "      <th>2</th>\n",
       "      <td>Hyundai i20</td>\n",
       "      <td>Hyundai</td>\n",
       "      <td>i20</td>\n",
       "      <td>11</td>\n",
       "      <td>60000</td>\n",
       "      <td>Individual</td>\n",
       "      <td>Petrol</td>\n",
       "      <td>Manual</td>\n",
       "      <td>17.00</td>\n",
       "      <td>1197</td>\n",
       "      <td>80.00</td>\n",
       "      <td>5</td>\n",
       "      <td>215000</td>\n",
       "    </tr>\n",
       "    <tr>\n",
       "      <th>3</th>\n",
       "      <td>Maruti Alto</td>\n",
       "      <td>Maruti</td>\n",
       "      <td>Alto</td>\n",
       "      <td>9</td>\n",
       "      <td>37000</td>\n",
       "      <td>Individual</td>\n",
       "      <td>Petrol</td>\n",
       "      <td>Manual</td>\n",
       "      <td>20.92</td>\n",
       "      <td>998</td>\n",
       "      <td>67.10</td>\n",
       "      <td>5</td>\n",
       "      <td>226000</td>\n",
       "    </tr>\n",
       "    <tr>\n",
       "      <th>4</th>\n",
       "      <td>Ford Ecosport</td>\n",
       "      <td>Ford</td>\n",
       "      <td>Ecosport</td>\n",
       "      <td>6</td>\n",
       "      <td>30000</td>\n",
       "      <td>Dealer</td>\n",
       "      <td>Diesel</td>\n",
       "      <td>Manual</td>\n",
       "      <td>22.77</td>\n",
       "      <td>1498</td>\n",
       "      <td>98.59</td>\n",
       "      <td>5</td>\n",
       "      <td>570000</td>\n",
       "    </tr>\n",
       "  </tbody>\n",
       "</table>\n",
       "</div>"
      ],
      "text/plain": [
       "        car_name    brand     model  vehicle_age  km_driven seller_type  \\\n",
       "0    Maruti Alto   Maruti      Alto            9     120000  Individual   \n",
       "1  Hyundai Grand  Hyundai     Grand            5      20000  Individual   \n",
       "2    Hyundai i20  Hyundai       i20           11      60000  Individual   \n",
       "3    Maruti Alto   Maruti      Alto            9      37000  Individual   \n",
       "4  Ford Ecosport     Ford  Ecosport            6      30000      Dealer   \n",
       "\n",
       "  fuel_type transmission_type  mileage  engine  max_power  seats  \\\n",
       "0    Petrol            Manual    19.70     796      46.30      5   \n",
       "1    Petrol            Manual    18.90    1197      82.00      5   \n",
       "2    Petrol            Manual    17.00    1197      80.00      5   \n",
       "3    Petrol            Manual    20.92     998      67.10      5   \n",
       "4    Diesel            Manual    22.77    1498      98.59      5   \n",
       "\n",
       "   selling_price  \n",
       "0         120000  \n",
       "1         550000  \n",
       "2         215000  \n",
       "3         226000  \n",
       "4         570000  "
      ]
     },
     "execution_count": 36,
     "metadata": {},
     "output_type": "execute_result"
    }
   ],
   "source": [
    "df.head()"
   ]
  },
  {
   "cell_type": "markdown",
   "metadata": {},
   "source": [
    "Data Cleaning\n",
    "Handling Missing values"
   ]
  },
  {
   "cell_type": "code",
   "execution_count": 37,
   "metadata": {},
   "outputs": [
    {
     "data": {
      "text/plain": [
       "car_name             0\n",
       "brand                0\n",
       "model                0\n",
       "vehicle_age          0\n",
       "km_driven            0\n",
       "seller_type          0\n",
       "fuel_type            0\n",
       "transmission_type    0\n",
       "mileage              0\n",
       "engine               0\n",
       "max_power            0\n",
       "seats                0\n",
       "selling_price        0\n",
       "dtype: int64"
      ]
     },
     "execution_count": 37,
     "metadata": {},
     "output_type": "execute_result"
    }
   ],
   "source": [
    "#check Null values\n",
    "#check features with nan value\n",
    "df.isnull().sum()"
   ]
  },
  {
   "cell_type": "code",
   "execution_count": 38,
   "metadata": {},
   "outputs": [],
   "source": [
    "#Remove Unnecessary columns\n",
    "df.drop('car_name',axis=1,inplace=True)\n",
    "df.drop('brand',axis=1,inplace=True)"
   ]
  },
  {
   "cell_type": "code",
   "execution_count": 39,
   "metadata": {},
   "outputs": [
    {
     "data": {
      "text/html": [
       "<div>\n",
       "<style scoped>\n",
       "    .dataframe tbody tr th:only-of-type {\n",
       "        vertical-align: middle;\n",
       "    }\n",
       "\n",
       "    .dataframe tbody tr th {\n",
       "        vertical-align: top;\n",
       "    }\n",
       "\n",
       "    .dataframe thead th {\n",
       "        text-align: right;\n",
       "    }\n",
       "</style>\n",
       "<table border=\"1\" class=\"dataframe\">\n",
       "  <thead>\n",
       "    <tr style=\"text-align: right;\">\n",
       "      <th></th>\n",
       "      <th>model</th>\n",
       "      <th>vehicle_age</th>\n",
       "      <th>km_driven</th>\n",
       "      <th>seller_type</th>\n",
       "      <th>fuel_type</th>\n",
       "      <th>transmission_type</th>\n",
       "      <th>mileage</th>\n",
       "      <th>engine</th>\n",
       "      <th>max_power</th>\n",
       "      <th>seats</th>\n",
       "      <th>selling_price</th>\n",
       "    </tr>\n",
       "  </thead>\n",
       "  <tbody>\n",
       "    <tr>\n",
       "      <th>0</th>\n",
       "      <td>Alto</td>\n",
       "      <td>9</td>\n",
       "      <td>120000</td>\n",
       "      <td>Individual</td>\n",
       "      <td>Petrol</td>\n",
       "      <td>Manual</td>\n",
       "      <td>19.70</td>\n",
       "      <td>796</td>\n",
       "      <td>46.30</td>\n",
       "      <td>5</td>\n",
       "      <td>120000</td>\n",
       "    </tr>\n",
       "    <tr>\n",
       "      <th>1</th>\n",
       "      <td>Grand</td>\n",
       "      <td>5</td>\n",
       "      <td>20000</td>\n",
       "      <td>Individual</td>\n",
       "      <td>Petrol</td>\n",
       "      <td>Manual</td>\n",
       "      <td>18.90</td>\n",
       "      <td>1197</td>\n",
       "      <td>82.00</td>\n",
       "      <td>5</td>\n",
       "      <td>550000</td>\n",
       "    </tr>\n",
       "    <tr>\n",
       "      <th>2</th>\n",
       "      <td>i20</td>\n",
       "      <td>11</td>\n",
       "      <td>60000</td>\n",
       "      <td>Individual</td>\n",
       "      <td>Petrol</td>\n",
       "      <td>Manual</td>\n",
       "      <td>17.00</td>\n",
       "      <td>1197</td>\n",
       "      <td>80.00</td>\n",
       "      <td>5</td>\n",
       "      <td>215000</td>\n",
       "    </tr>\n",
       "    <tr>\n",
       "      <th>3</th>\n",
       "      <td>Alto</td>\n",
       "      <td>9</td>\n",
       "      <td>37000</td>\n",
       "      <td>Individual</td>\n",
       "      <td>Petrol</td>\n",
       "      <td>Manual</td>\n",
       "      <td>20.92</td>\n",
       "      <td>998</td>\n",
       "      <td>67.10</td>\n",
       "      <td>5</td>\n",
       "      <td>226000</td>\n",
       "    </tr>\n",
       "    <tr>\n",
       "      <th>4</th>\n",
       "      <td>Ecosport</td>\n",
       "      <td>6</td>\n",
       "      <td>30000</td>\n",
       "      <td>Dealer</td>\n",
       "      <td>Diesel</td>\n",
       "      <td>Manual</td>\n",
       "      <td>22.77</td>\n",
       "      <td>1498</td>\n",
       "      <td>98.59</td>\n",
       "      <td>5</td>\n",
       "      <td>570000</td>\n",
       "    </tr>\n",
       "    <tr>\n",
       "      <th>5</th>\n",
       "      <td>Wagon R</td>\n",
       "      <td>8</td>\n",
       "      <td>35000</td>\n",
       "      <td>Individual</td>\n",
       "      <td>Petrol</td>\n",
       "      <td>Manual</td>\n",
       "      <td>18.90</td>\n",
       "      <td>998</td>\n",
       "      <td>67.10</td>\n",
       "      <td>5</td>\n",
       "      <td>350000</td>\n",
       "    </tr>\n",
       "    <tr>\n",
       "      <th>6</th>\n",
       "      <td>i10</td>\n",
       "      <td>8</td>\n",
       "      <td>40000</td>\n",
       "      <td>Dealer</td>\n",
       "      <td>Petrol</td>\n",
       "      <td>Manual</td>\n",
       "      <td>20.36</td>\n",
       "      <td>1197</td>\n",
       "      <td>78.90</td>\n",
       "      <td>5</td>\n",
       "      <td>315000</td>\n",
       "    </tr>\n",
       "  </tbody>\n",
       "</table>\n",
       "</div>"
      ],
      "text/plain": [
       "      model  vehicle_age  km_driven seller_type fuel_type transmission_type  \\\n",
       "0      Alto            9     120000  Individual    Petrol            Manual   \n",
       "1     Grand            5      20000  Individual    Petrol            Manual   \n",
       "2       i20           11      60000  Individual    Petrol            Manual   \n",
       "3      Alto            9      37000  Individual    Petrol            Manual   \n",
       "4  Ecosport            6      30000      Dealer    Diesel            Manual   \n",
       "5   Wagon R            8      35000  Individual    Petrol            Manual   \n",
       "6       i10            8      40000      Dealer    Petrol            Manual   \n",
       "\n",
       "   mileage  engine  max_power  seats  selling_price  \n",
       "0    19.70     796      46.30      5         120000  \n",
       "1    18.90    1197      82.00      5         550000  \n",
       "2    17.00    1197      80.00      5         215000  \n",
       "3    20.92     998      67.10      5         226000  \n",
       "4    22.77    1498      98.59      5         570000  \n",
       "5    18.90     998      67.10      5         350000  \n",
       "6    20.36    1197      78.90      5         315000  "
      ]
     },
     "execution_count": 39,
     "metadata": {},
     "output_type": "execute_result"
    }
   ],
   "source": [
    "df.head(7)"
   ]
  },
  {
   "cell_type": "code",
   "execution_count": 40,
   "metadata": {},
   "outputs": [
    {
     "data": {
      "text/plain": [
       "array(['Alto', 'Grand', 'i20', 'Ecosport', 'Wagon R', 'i10', 'Venue',\n",
       "       'Swift', 'Verna', 'Duster', 'Cooper', 'Ciaz', 'C-Class', 'Innova',\n",
       "       'Baleno', 'Swift Dzire', 'Vento', 'Creta', 'City', 'Bolero',\n",
       "       'Fortuner', 'KWID', 'Amaze', 'Santro', 'XUV500', 'KUV100', 'Ignis',\n",
       "       'RediGO', 'Scorpio', 'Marazzo', 'Aspire', 'Figo', 'Vitara',\n",
       "       'Tiago', 'Polo', 'Seltos', 'Celerio', 'GO', '5', 'CR-V',\n",
       "       'Endeavour', 'KUV', 'Jazz', '3', 'A4', 'Tigor', 'Ertiga', 'Safari',\n",
       "       'Thar', 'Hexa', 'Rover', 'Eeco', 'A6', 'E-Class', 'Q7', 'Z4', '6',\n",
       "       'XF', 'X5', 'Hector', 'Civic', 'D-Max', 'Cayenne', 'X1', 'Rapid',\n",
       "       'Freestyle', 'Superb', 'Nexon', 'XUV300', 'Dzire VXI', 'S90',\n",
       "       'WR-V', 'XL6', 'Triber', 'ES', 'Wrangler', 'Camry', 'Elantra',\n",
       "       'Yaris', 'GL-Class', '7', 'S-Presso', 'Dzire LXI', 'Aura', 'XC',\n",
       "       'Ghibli', 'Continental', 'CR', 'Kicks', 'S-Class', 'Tucson',\n",
       "       'Harrier', 'X3', 'Octavia', 'Compass', 'CLS', 'redi-GO', 'Glanza',\n",
       "       'Macan', 'X4', 'Dzire ZXI', 'XC90', 'F-PACE', 'A8', 'MUX',\n",
       "       'GTC4Lusso', 'GLS', 'X-Trail', 'XE', 'XC60', 'Panamera', 'Alturas',\n",
       "       'Altroz', 'NX', 'Carnival', 'C', 'RX', 'Ghost', 'Quattroporte',\n",
       "       'Gurkha'], dtype=object)"
      ]
     },
     "execution_count": 40,
     "metadata": {},
     "output_type": "execute_result"
    }
   ],
   "source": [
    "df['model'].unique()"
   ]
  },
  {
   "cell_type": "code",
   "execution_count": 41,
   "metadata": {},
   "outputs": [
    {
     "name": "stdout",
     "output_type": "stream",
     "text": [
      "Num of numerical features : 7\n",
      "Num of categorical features : 4\n",
      "number of discrete features: 2\n",
      "number of continuous features: 5\n"
     ]
    }
   ],
   "source": [
    "#Different types of features\n",
    "num_features = [feature for feature in df.columns if df[feature].dtype != 'O']\n",
    "print('Num of numerical features :', len(num_features))\n",
    "cat_features = [feature for feature in df.columns if df[feature].dtype == 'O']\n",
    "print('Num of categorical features :', len(cat_features))\n",
    "discrete_features = [feature for feature in num_features if len(df[feature].unique()) <= 25]\n",
    "print('number of discrete features:',len(discrete_features))\n",
    "continuous_features = [feature for feature in num_features if feature not in discrete_features]\n",
    "print('number of continuous features:',len(continuous_features))"
   ]
  },
  {
   "cell_type": "markdown",
   "metadata": {},
   "source": [
    "Independent and Dependent features"
   ]
  },
  {
   "cell_type": "code",
   "execution_count": 42,
   "metadata": {},
   "outputs": [],
   "source": [
    "X = df.drop(['selling_price'],axis=1)\n",
    "y = df['selling_price']"
   ]
  },
  {
   "cell_type": "markdown",
   "metadata": {},
   "source": [
    "Feature Encoding and Scaling\n",
    "One Hot Encoding for Columns which had lesser unique values and not ordinal\n",
    "\n",
    "One hot encoding is a process by which categorical variables are converted into a form that could be provided to ML algorithms to do a better job in prediction.\n"
   ]
  },
  {
   "cell_type": "code",
   "execution_count": 43,
   "metadata": {},
   "outputs": [
    {
     "data": {
      "text/plain": [
       "120"
      ]
     },
     "execution_count": 43,
     "metadata": {},
     "output_type": "execute_result"
    }
   ],
   "source": [
    "len(df['model'].unique())"
   ]
  },
  {
   "cell_type": "code",
   "execution_count": 44,
   "metadata": {},
   "outputs": [
    {
     "data": {
      "text/plain": [
       "model\n",
       "i20            906\n",
       "Swift Dzire    890\n",
       "Swift          781\n",
       "Alto           778\n",
       "City           757\n",
       "              ... \n",
       "Ghibli           1\n",
       "Altroz           1\n",
       "GTC4Lusso        1\n",
       "Aura             1\n",
       "Gurkha           1\n",
       "Name: count, Length: 120, dtype: int64"
      ]
     },
     "execution_count": 44,
     "metadata": {},
     "output_type": "execute_result"
    }
   ],
   "source": [
    "df['model'].value_counts()"
   ]
  },
  {
   "cell_type": "code",
   "execution_count": 45,
   "metadata": {},
   "outputs": [],
   "source": [
    "from sklearn.preprocessing import LabelEncoder\n",
    "le = LabelEncoder()\n",
    "X['model'] = le.fit_transform(X['model'])"
   ]
  },
  {
   "cell_type": "code",
   "execution_count": 46,
   "metadata": {},
   "outputs": [
    {
     "data": {
      "text/html": [
       "<div>\n",
       "<style scoped>\n",
       "    .dataframe tbody tr th:only-of-type {\n",
       "        vertical-align: middle;\n",
       "    }\n",
       "\n",
       "    .dataframe tbody tr th {\n",
       "        vertical-align: top;\n",
       "    }\n",
       "\n",
       "    .dataframe thead th {\n",
       "        text-align: right;\n",
       "    }\n",
       "</style>\n",
       "<table border=\"1\" class=\"dataframe\">\n",
       "  <thead>\n",
       "    <tr style=\"text-align: right;\">\n",
       "      <th></th>\n",
       "      <th>model</th>\n",
       "      <th>vehicle_age</th>\n",
       "      <th>km_driven</th>\n",
       "      <th>seller_type</th>\n",
       "      <th>fuel_type</th>\n",
       "      <th>transmission_type</th>\n",
       "      <th>mileage</th>\n",
       "      <th>engine</th>\n",
       "      <th>max_power</th>\n",
       "      <th>seats</th>\n",
       "    </tr>\n",
       "  </thead>\n",
       "  <tbody>\n",
       "    <tr>\n",
       "      <th>0</th>\n",
       "      <td>7</td>\n",
       "      <td>9</td>\n",
       "      <td>120000</td>\n",
       "      <td>Individual</td>\n",
       "      <td>Petrol</td>\n",
       "      <td>Manual</td>\n",
       "      <td>19.70</td>\n",
       "      <td>796</td>\n",
       "      <td>46.30</td>\n",
       "      <td>5</td>\n",
       "    </tr>\n",
       "    <tr>\n",
       "      <th>1</th>\n",
       "      <td>54</td>\n",
       "      <td>5</td>\n",
       "      <td>20000</td>\n",
       "      <td>Individual</td>\n",
       "      <td>Petrol</td>\n",
       "      <td>Manual</td>\n",
       "      <td>18.90</td>\n",
       "      <td>1197</td>\n",
       "      <td>82.00</td>\n",
       "      <td>5</td>\n",
       "    </tr>\n",
       "    <tr>\n",
       "      <th>2</th>\n",
       "      <td>118</td>\n",
       "      <td>11</td>\n",
       "      <td>60000</td>\n",
       "      <td>Individual</td>\n",
       "      <td>Petrol</td>\n",
       "      <td>Manual</td>\n",
       "      <td>17.00</td>\n",
       "      <td>1197</td>\n",
       "      <td>80.00</td>\n",
       "      <td>5</td>\n",
       "    </tr>\n",
       "    <tr>\n",
       "      <th>3</th>\n",
       "      <td>7</td>\n",
       "      <td>9</td>\n",
       "      <td>37000</td>\n",
       "      <td>Individual</td>\n",
       "      <td>Petrol</td>\n",
       "      <td>Manual</td>\n",
       "      <td>20.92</td>\n",
       "      <td>998</td>\n",
       "      <td>67.10</td>\n",
       "      <td>5</td>\n",
       "    </tr>\n",
       "    <tr>\n",
       "      <th>4</th>\n",
       "      <td>38</td>\n",
       "      <td>6</td>\n",
       "      <td>30000</td>\n",
       "      <td>Dealer</td>\n",
       "      <td>Diesel</td>\n",
       "      <td>Manual</td>\n",
       "      <td>22.77</td>\n",
       "      <td>1498</td>\n",
       "      <td>98.59</td>\n",
       "      <td>5</td>\n",
       "    </tr>\n",
       "  </tbody>\n",
       "</table>\n",
       "</div>"
      ],
      "text/plain": [
       "   model  vehicle_age  km_driven seller_type fuel_type transmission_type  \\\n",
       "0      7            9     120000  Individual    Petrol            Manual   \n",
       "1     54            5      20000  Individual    Petrol            Manual   \n",
       "2    118           11      60000  Individual    Petrol            Manual   \n",
       "3      7            9      37000  Individual    Petrol            Manual   \n",
       "4     38            6      30000      Dealer    Diesel            Manual   \n",
       "\n",
       "   mileage  engine  max_power  seats  \n",
       "0    19.70     796      46.30      5  \n",
       "1    18.90    1197      82.00      5  \n",
       "2    17.00    1197      80.00      5  \n",
       "3    20.92     998      67.10      5  \n",
       "4    22.77    1498      98.59      5  "
      ]
     },
     "execution_count": 46,
     "metadata": {},
     "output_type": "execute_result"
    }
   ],
   "source": [
    "X.head()"
   ]
  },
  {
   "cell_type": "code",
   "execution_count": 47,
   "metadata": {},
   "outputs": [
    {
     "name": "stdout",
     "output_type": "stream",
     "text": [
      "3\n",
      "5\n",
      "2\n"
     ]
    }
   ],
   "source": [
    "print(len(df['seller_type'].unique()))\n",
    "print(len(df['fuel_type'].unique()))\n",
    "print(len(df['transmission_type'].unique()))\n"
   ]
  },
  {
   "cell_type": "code",
   "execution_count": 48,
   "metadata": {},
   "outputs": [],
   "source": [
    "#Create Column Transformer with 3 types of transformers\n",
    "#Column Transformer allows to apply differen transformations to the different columns in the dataset\n",
    "num_features = X.select_dtypes(exclude='object').columns\n",
    "#returns numerical column names\n",
    "#categorical columns in data frame\n",
    "onehot_columns = ['seller_type','fuel_type','transmission_type']\n",
    "from sklearn.preprocessing import OneHotEncoder, StandardScaler\n",
    "from sklearn.compose import ColumnTransformer\n",
    "numeric_transformer = StandardScaler()\n",
    "oh_transformer = OneHotEncoder(drop='first')\n",
    "#it will drop the first category in each feature to avoid multicollinearity.\n",
    "preprocessor = ColumnTransformer(\n",
    "    [\n",
    "        ('OneHotEncoder',oh_transformer, onehot_columns),\n",
    "        (\"StandardScaler\",numeric_transformer, num_features)\n",
    "    ], remainder= 'passthrough' #ensures that any columns not explicitly transformed are kept as they are.\n",
    ")\n"
   ]
  },
  {
   "cell_type": "code",
   "execution_count": 49,
   "metadata": {},
   "outputs": [],
   "source": [
    "X = preprocessor.fit_transform(X)"
   ]
  },
  {
   "cell_type": "code",
   "execution_count": 50,
   "metadata": {},
   "outputs": [
    {
     "data": {
      "text/html": [
       "<div>\n",
       "<style scoped>\n",
       "    .dataframe tbody tr th:only-of-type {\n",
       "        vertical-align: middle;\n",
       "    }\n",
       "\n",
       "    .dataframe tbody tr th {\n",
       "        vertical-align: top;\n",
       "    }\n",
       "\n",
       "    .dataframe thead th {\n",
       "        text-align: right;\n",
       "    }\n",
       "</style>\n",
       "<table border=\"1\" class=\"dataframe\">\n",
       "  <thead>\n",
       "    <tr style=\"text-align: right;\">\n",
       "      <th></th>\n",
       "      <th>0</th>\n",
       "      <th>1</th>\n",
       "      <th>2</th>\n",
       "      <th>3</th>\n",
       "      <th>4</th>\n",
       "      <th>5</th>\n",
       "      <th>6</th>\n",
       "      <th>7</th>\n",
       "      <th>8</th>\n",
       "      <th>9</th>\n",
       "      <th>10</th>\n",
       "      <th>11</th>\n",
       "      <th>12</th>\n",
       "      <th>13</th>\n",
       "    </tr>\n",
       "  </thead>\n",
       "  <tbody>\n",
       "    <tr>\n",
       "      <th>0</th>\n",
       "      <td>1.0</td>\n",
       "      <td>0.0</td>\n",
       "      <td>0.0</td>\n",
       "      <td>0.0</td>\n",
       "      <td>0.0</td>\n",
       "      <td>1.0</td>\n",
       "      <td>1.0</td>\n",
       "      <td>-1.519714</td>\n",
       "      <td>0.983562</td>\n",
       "      <td>1.247335</td>\n",
       "      <td>-0.000276</td>\n",
       "      <td>-1.324259</td>\n",
       "      <td>-1.263352</td>\n",
       "      <td>-0.403022</td>\n",
       "    </tr>\n",
       "    <tr>\n",
       "      <th>1</th>\n",
       "      <td>1.0</td>\n",
       "      <td>0.0</td>\n",
       "      <td>0.0</td>\n",
       "      <td>0.0</td>\n",
       "      <td>0.0</td>\n",
       "      <td>1.0</td>\n",
       "      <td>1.0</td>\n",
       "      <td>-0.225693</td>\n",
       "      <td>-0.343933</td>\n",
       "      <td>-0.690016</td>\n",
       "      <td>-0.192071</td>\n",
       "      <td>-0.554718</td>\n",
       "      <td>-0.432571</td>\n",
       "      <td>-0.403022</td>\n",
       "    </tr>\n",
       "    <tr>\n",
       "      <th>2</th>\n",
       "      <td>1.0</td>\n",
       "      <td>0.0</td>\n",
       "      <td>0.0</td>\n",
       "      <td>0.0</td>\n",
       "      <td>0.0</td>\n",
       "      <td>1.0</td>\n",
       "      <td>1.0</td>\n",
       "      <td>1.536377</td>\n",
       "      <td>1.647309</td>\n",
       "      <td>0.084924</td>\n",
       "      <td>-0.647583</td>\n",
       "      <td>-0.554718</td>\n",
       "      <td>-0.479113</td>\n",
       "      <td>-0.403022</td>\n",
       "    </tr>\n",
       "    <tr>\n",
       "      <th>3</th>\n",
       "      <td>1.0</td>\n",
       "      <td>0.0</td>\n",
       "      <td>0.0</td>\n",
       "      <td>0.0</td>\n",
       "      <td>0.0</td>\n",
       "      <td>1.0</td>\n",
       "      <td>1.0</td>\n",
       "      <td>-1.519714</td>\n",
       "      <td>0.983562</td>\n",
       "      <td>-0.360667</td>\n",
       "      <td>0.292211</td>\n",
       "      <td>-0.936610</td>\n",
       "      <td>-0.779312</td>\n",
       "      <td>-0.403022</td>\n",
       "    </tr>\n",
       "    <tr>\n",
       "      <th>4</th>\n",
       "      <td>0.0</td>\n",
       "      <td>0.0</td>\n",
       "      <td>1.0</td>\n",
       "      <td>0.0</td>\n",
       "      <td>0.0</td>\n",
       "      <td>0.0</td>\n",
       "      <td>1.0</td>\n",
       "      <td>-0.666211</td>\n",
       "      <td>-0.012060</td>\n",
       "      <td>-0.496281</td>\n",
       "      <td>0.735736</td>\n",
       "      <td>0.022918</td>\n",
       "      <td>-0.046502</td>\n",
       "      <td>-0.403022</td>\n",
       "    </tr>\n",
       "    <tr>\n",
       "      <th>...</th>\n",
       "      <td>...</td>\n",
       "      <td>...</td>\n",
       "      <td>...</td>\n",
       "      <td>...</td>\n",
       "      <td>...</td>\n",
       "      <td>...</td>\n",
       "      <td>...</td>\n",
       "      <td>...</td>\n",
       "      <td>...</td>\n",
       "      <td>...</td>\n",
       "      <td>...</td>\n",
       "      <td>...</td>\n",
       "      <td>...</td>\n",
       "      <td>...</td>\n",
       "    </tr>\n",
       "    <tr>\n",
       "      <th>15406</th>\n",
       "      <td>0.0</td>\n",
       "      <td>0.0</td>\n",
       "      <td>0.0</td>\n",
       "      <td>0.0</td>\n",
       "      <td>0.0</td>\n",
       "      <td>1.0</td>\n",
       "      <td>1.0</td>\n",
       "      <td>1.508844</td>\n",
       "      <td>0.983562</td>\n",
       "      <td>-0.869744</td>\n",
       "      <td>0.026096</td>\n",
       "      <td>-0.767733</td>\n",
       "      <td>-0.757204</td>\n",
       "      <td>-0.403022</td>\n",
       "    </tr>\n",
       "    <tr>\n",
       "      <th>15407</th>\n",
       "      <td>0.0</td>\n",
       "      <td>0.0</td>\n",
       "      <td>0.0</td>\n",
       "      <td>0.0</td>\n",
       "      <td>0.0</td>\n",
       "      <td>1.0</td>\n",
       "      <td>1.0</td>\n",
       "      <td>-0.556082</td>\n",
       "      <td>-1.339555</td>\n",
       "      <td>-0.728763</td>\n",
       "      <td>-0.527711</td>\n",
       "      <td>-0.216964</td>\n",
       "      <td>-0.220803</td>\n",
       "      <td>2.073444</td>\n",
       "    </tr>\n",
       "    <tr>\n",
       "      <th>15408</th>\n",
       "      <td>0.0</td>\n",
       "      <td>0.0</td>\n",
       "      <td>1.0</td>\n",
       "      <td>0.0</td>\n",
       "      <td>0.0</td>\n",
       "      <td>0.0</td>\n",
       "      <td>1.0</td>\n",
       "      <td>0.407551</td>\n",
       "      <td>-0.012060</td>\n",
       "      <td>0.220539</td>\n",
       "      <td>0.344954</td>\n",
       "      <td>0.022918</td>\n",
       "      <td>0.068225</td>\n",
       "      <td>-0.403022</td>\n",
       "    </tr>\n",
       "    <tr>\n",
       "      <th>15409</th>\n",
       "      <td>0.0</td>\n",
       "      <td>0.0</td>\n",
       "      <td>1.0</td>\n",
       "      <td>0.0</td>\n",
       "      <td>0.0</td>\n",
       "      <td>0.0</td>\n",
       "      <td>1.0</td>\n",
       "      <td>1.426247</td>\n",
       "      <td>-0.343933</td>\n",
       "      <td>72.541850</td>\n",
       "      <td>-0.887326</td>\n",
       "      <td>1.329794</td>\n",
       "      <td>0.917158</td>\n",
       "      <td>2.073444</td>\n",
       "    </tr>\n",
       "    <tr>\n",
       "      <th>15410</th>\n",
       "      <td>0.0</td>\n",
       "      <td>0.0</td>\n",
       "      <td>0.0</td>\n",
       "      <td>0.0</td>\n",
       "      <td>0.0</td>\n",
       "      <td>1.0</td>\n",
       "      <td>0.0</td>\n",
       "      <td>-1.024131</td>\n",
       "      <td>-1.339555</td>\n",
       "      <td>-0.825631</td>\n",
       "      <td>-0.407839</td>\n",
       "      <td>0.020999</td>\n",
       "      <td>0.395884</td>\n",
       "      <td>-0.403022</td>\n",
       "    </tr>\n",
       "  </tbody>\n",
       "</table>\n",
       "<p>15411 rows × 14 columns</p>\n",
       "</div>"
      ],
      "text/plain": [
       "        0    1    2    3    4    5    6         7         8          9   \\\n",
       "0      1.0  0.0  0.0  0.0  0.0  1.0  1.0 -1.519714  0.983562   1.247335   \n",
       "1      1.0  0.0  0.0  0.0  0.0  1.0  1.0 -0.225693 -0.343933  -0.690016   \n",
       "2      1.0  0.0  0.0  0.0  0.0  1.0  1.0  1.536377  1.647309   0.084924   \n",
       "3      1.0  0.0  0.0  0.0  0.0  1.0  1.0 -1.519714  0.983562  -0.360667   \n",
       "4      0.0  0.0  1.0  0.0  0.0  0.0  1.0 -0.666211 -0.012060  -0.496281   \n",
       "...    ...  ...  ...  ...  ...  ...  ...       ...       ...        ...   \n",
       "15406  0.0  0.0  0.0  0.0  0.0  1.0  1.0  1.508844  0.983562  -0.869744   \n",
       "15407  0.0  0.0  0.0  0.0  0.0  1.0  1.0 -0.556082 -1.339555  -0.728763   \n",
       "15408  0.0  0.0  1.0  0.0  0.0  0.0  1.0  0.407551 -0.012060   0.220539   \n",
       "15409  0.0  0.0  1.0  0.0  0.0  0.0  1.0  1.426247 -0.343933  72.541850   \n",
       "15410  0.0  0.0  0.0  0.0  0.0  1.0  0.0 -1.024131 -1.339555  -0.825631   \n",
       "\n",
       "             10        11        12        13  \n",
       "0     -0.000276 -1.324259 -1.263352 -0.403022  \n",
       "1     -0.192071 -0.554718 -0.432571 -0.403022  \n",
       "2     -0.647583 -0.554718 -0.479113 -0.403022  \n",
       "3      0.292211 -0.936610 -0.779312 -0.403022  \n",
       "4      0.735736  0.022918 -0.046502 -0.403022  \n",
       "...         ...       ...       ...       ...  \n",
       "15406  0.026096 -0.767733 -0.757204 -0.403022  \n",
       "15407 -0.527711 -0.216964 -0.220803  2.073444  \n",
       "15408  0.344954  0.022918  0.068225 -0.403022  \n",
       "15409 -0.887326  1.329794  0.917158  2.073444  \n",
       "15410 -0.407839  0.020999  0.395884 -0.403022  \n",
       "\n",
       "[15411 rows x 14 columns]"
      ]
     },
     "execution_count": 50,
     "metadata": {},
     "output_type": "execute_result"
    }
   ],
   "source": [
    "#X is a numpy.ndarray, convert it to data frame\n",
    "pd.DataFrame(X)"
   ]
  },
  {
   "cell_type": "markdown",
   "metadata": {},
   "source": [
    "Train Test split"
   ]
  },
  {
   "cell_type": "code",
   "execution_count": 51,
   "metadata": {},
   "outputs": [],
   "source": [
    "from sklearn.model_selection import train_test_split\n",
    "X_train,X_test,y_train,y_test = train_test_split(X,y,test_size=0.3,random_state=12)"
   ]
  },
  {
   "cell_type": "code",
   "execution_count": 52,
   "metadata": {},
   "outputs": [
    {
     "data": {
      "text/plain": [
       "((10787, 14), (4624, 14))"
      ]
     },
     "execution_count": 52,
     "metadata": {},
     "output_type": "execute_result"
    }
   ],
   "source": [
    "X_train.shape, X_test.shape"
   ]
  },
  {
   "cell_type": "code",
   "execution_count": 53,
   "metadata": {},
   "outputs": [
    {
     "data": {
      "text/plain": [
       "array([[ 1.        ,  0.        ,  0.        , ..., -0.55471774,\n",
       "        -0.43722506, -0.40302241],\n",
       "       [ 0.        ,  0.        ,  0.        , ..., -0.55471774,\n",
       "        -0.43722506, -0.40302241],\n",
       "       [ 0.        ,  0.        ,  0.        , ..., -0.55471774,\n",
       "        -0.40697251, -0.40302241],\n",
       "       ...,\n",
       "       [ 0.        ,  0.        ,  1.        , ..., -0.45684593,\n",
       "        -0.62106748, -0.40302241],\n",
       "       [ 1.        ,  0.        ,  0.        , ..., -0.55471774,\n",
       "        -0.43582879, -0.40302241],\n",
       "       [ 1.        ,  0.        ,  1.        , ...,  0.21482334,\n",
       "         0.07008692, -0.40302241]])"
      ]
     },
     "execution_count": 53,
     "metadata": {},
     "output_type": "execute_result"
    }
   ],
   "source": [
    "X_train"
   ]
  },
  {
   "cell_type": "markdown",
   "metadata": {},
   "source": [
    "Model Training and Selection"
   ]
  },
  {
   "cell_type": "code",
   "execution_count": 54,
   "metadata": {},
   "outputs": [],
   "source": [
    "from sklearn.ensemble import RandomForestRegressor\n",
    "from sklearn.linear_model import LinearRegression, Ridge, Lasso\n",
    "from sklearn.tree import DecisionTreeRegressor\n",
    "from sklearn.neighbors import KNeighborsRegressor\n",
    "from sklearn.metrics import r2_score, mean_absolute_error, mean_squared_error"
   ]
  },
  {
   "cell_type": "markdown",
   "metadata": {},
   "source": [
    "Function to evaluate model"
   ]
  },
  {
   "cell_type": "code",
   "execution_count": 55,
   "metadata": {},
   "outputs": [],
   "source": [
    "def evauate_model(true,predicted):\n",
    "    mae = mean_absolute_error(true,predicted)\n",
    "    mse = mean_squared_error(true,predicted)\n",
    "    rmse = np.sqrt(mean_squared_error(true,predicted))\n",
    "    r2_square = r2_score(true,predicted)\n",
    "    return mae, rmse, r2_square"
   ]
  },
  {
   "cell_type": "markdown",
   "metadata": {},
   "source": [
    "Training of Models"
   ]
  },
  {
   "cell_type": "code",
   "execution_count": 56,
   "metadata": {},
   "outputs": [
    {
     "name": "stdout",
     "output_type": "stream",
     "text": [
      "LinearRegression\n",
      "model performance on training set\n",
      "-Root mean squared error: 494923.4113\n",
      "-mean absolute error: 263456.7163\n",
      "- R2 score: 0.6617\n",
      "model performance on testing set\n",
      "-Root mean squared error: 647570.1344\n",
      "-mean absolute error: 262968.6936\n",
      "- R2 score: 0.5699\n",
      "===================================\n",
      "\n",
      "\n",
      "Lasso\n",
      "model performance on training set\n",
      "-Root mean squared error: 494923.4175\n",
      "-mean absolute error: 263454.5048\n",
      "- R2 score: 0.6617\n",
      "model performance on testing set\n",
      "-Root mean squared error: 647569.2801\n",
      "-mean absolute error: 262963.8128\n",
      "- R2 score: 0.5699\n",
      "===================================\n",
      "\n",
      "\n",
      "Ridge\n",
      "model performance on training set\n",
      "-Root mean squared error: 494924.8768\n",
      "-mean absolute error: 263415.9900\n",
      "- R2 score: 0.6617\n",
      "model performance on testing set\n",
      "-Root mean squared error: 647579.7358\n",
      "-mean absolute error: 262896.4043\n",
      "- R2 score: 0.5698\n",
      "===================================\n",
      "\n",
      "\n",
      "K-Neighbors\n",
      "model performance on training set\n",
      "-Root mean squared error: 251246.7536\n",
      "-mean absolute error: 90899.3256\n",
      "- R2 score: 0.9128\n",
      "model performance on testing set\n",
      "-Root mean squared error: 526329.2635\n",
      "-mean absolute error: 115939.6248\n",
      "- R2 score: 0.7158\n",
      "===================================\n",
      "\n",
      "\n",
      "DecisionTreeRegressor\n",
      "model performance on training set\n",
      "-Root mean squared error: 18377.1441\n",
      "-mean absolute error: 4385.3651\n",
      "- R2 score: 0.9995\n",
      "model performance on testing set\n",
      "-Root mean squared error: 508676.8317\n",
      "-mean absolute error: 135892.9895\n",
      "- R2 score: 0.7346\n",
      "===================================\n",
      "\n",
      "\n",
      "RandomForestRegressor\n",
      "model performance on training set\n",
      "-Root mean squared error: 106645.4542\n",
      "-mean absolute error: 39100.6878\n",
      "- R2 score: 0.9843\n",
      "model performance on testing set\n",
      "-Root mean squared error: 438135.4863\n",
      "-mean absolute error: 104530.8176\n",
      "- R2 score: 0.8031\n",
      "===================================\n",
      "\n",
      "\n"
     ]
    }
   ],
   "source": [
    "models = {\n",
    "    \"LinearRegression\" : LinearRegression(),\n",
    "    \"Lasso\" : Lasso(),\n",
    "    \"Ridge\" : Ridge(),\n",
    "    \"K-Neighbors\": KNeighborsRegressor(),\n",
    "    \"DecisionTreeRegressor\" : DecisionTreeRegressor(),\n",
    "    \"RandomForestRegressor\" : RandomForestRegressor(),\n",
    "}\n",
    "for i in range(len(list(models))):\n",
    "    model = list(models.values())[i]\n",
    "    #train the model\n",
    "    model.fit(X_train,y_train)\n",
    "    #make predictions\n",
    "    y_train_pred = model.predict(X_train)\n",
    "    y_test_pred = model.predict(X_test)\n",
    "    # Evaluate train and test dataset\n",
    "    model_train_mae, model_train_rmse, model_train_r2 = evauate_model(y_train,y_train_pred)\n",
    "    model_test_mae, model_test_rmse, model_test_r2 = evauate_model(y_test,y_test_pred)\n",
    "    print(list(models.keys())[i])\n",
    "    print(\"model performance on training set\")\n",
    "    print(\"-Root mean squared error: {:.4f}\".format(model_train_rmse))\n",
    "    print(\"-mean absolute error: {:.4f}\".format(model_train_mae))\n",
    "    print(\"- R2 score: {:.4f}\".format(model_train_r2))\n",
    "    print(\"model performance on testing set\")\n",
    "    print(\"-Root mean squared error: {:.4f}\".format(model_test_rmse))\n",
    "    print(\"-mean absolute error: {:.4f}\".format(model_test_mae))\n",
    "    print(\"- R2 score: {:.4f}\".format(model_test_r2))\n",
    "    print('='*35)\n",
    "    print('\\n')\n",
    "\n",
    "\n"
   ]
  },
  {
   "cell_type": "markdown",
   "metadata": {},
   "source": [
    "Hyper parameter Tuning"
   ]
  },
  {
   "cell_type": "code",
   "execution_count": 57,
   "metadata": {},
   "outputs": [],
   "source": [
    "knn_param = {'n_neighbors':[2,3,10,20,40,50]}\n",
    "rf_params = {'max_depth':[3,5,8,10,15,None],\n",
    "             \"max_features\":[3,5,7,9,\"auto\"],\n",
    "             \"min_samples_split\":[2,4,8,16,20],\n",
    "             \"n_estimators\":[100,200,500,1000]}"
   ]
  },
  {
   "cell_type": "code",
   "execution_count": 58,
   "metadata": {},
   "outputs": [],
   "source": [
    "#list of models for hyperparameter tuning\n",
    "randomcv_models = [('KNN',KNeighborsRegressor(),knn_param),\n",
    "                   ('RF',RandomForestRegressor(),rf_params)]"
   ]
  },
  {
   "cell_type": "code",
   "execution_count": 59,
   "metadata": {},
   "outputs": [
    {
     "name": "stdout",
     "output_type": "stream",
     "text": [
      "Fitting 3 folds for each of 6 candidates, totalling 18 fits\n",
      "Fitting 3 folds for each of 100 candidates, totalling 300 fits\n",
      "------Best Params forKNN------\n",
      "{'n_neighbors': 3}\n",
      "------Best Params forRF------\n",
      "{'n_estimators': 100, 'min_samples_split': 2, 'max_features': 7, 'max_depth': None}\n"
     ]
    }
   ],
   "source": [
    "#Hyper parameter tuning\n",
    "from sklearn.model_selection import RandomizedSearchCV\n",
    "model_param ={}\n",
    "for name,model,parameters in randomcv_models:\n",
    "    random = RandomizedSearchCV(estimator=model,param_distributions=parameters,\n",
    "                                n_iter=100,cv=3,verbose=2,n_jobs=-1)\n",
    "    random.fit(X_train,y_train)\n",
    "    model_param[name] = random.best_params_\n",
    "\n",
    "for model_name in model_param:\n",
    "    print(f\"------Best Params for{model_name}------\")\n",
    "    print(model_param[model_name])\n",
    "    "
   ]
  },
  {
   "cell_type": "markdown",
   "metadata": {},
   "source": [
    "Retrain the model with best hyperparameters"
   ]
  },
  {
   "cell_type": "code",
   "execution_count": 62,
   "metadata": {},
   "outputs": [
    {
     "name": "stdout",
     "output_type": "stream",
     "text": [
      "RandomForestRegressor\n",
      "model performance on training set\n",
      "-Root mean squared error: 96742.3768\n",
      "-mean absolute error: 38674.0192\n",
      "- R2 score: 0.9871\n",
      "model performance on testing set\n",
      "-Root mean squared error: 439656.5904\n",
      "-mean absolute error: 102372.6809\n",
      "- R2 score: 0.8017\n",
      "===================================\n",
      "\n",
      "\n",
      "K-Neighbore Regressor\n",
      "model performance on training set\n",
      "-Root mean squared error: 225448.9206\n",
      "-mean absolute error: 77375.1815\n",
      "- R2 score: 0.9298\n",
      "model performance on testing set\n",
      "-Root mean squared error: 504036.8313\n",
      "-mean absolute error: 114468.1373\n",
      "- R2 score: 0.7394\n",
      "===================================\n",
      "\n",
      "\n"
     ]
    }
   ],
   "source": [
    "models = {\n",
    "    \"RandomForestRegressor\" : RandomForestRegressor(n_estimators= 100, min_samples_split = 2, max_features= 7, max_depth = None, n_jobs=-1),\n",
    "    \"K-Neighbore Regressor\": KNeighborsRegressor(n_neighbors=3,n_jobs=-1)\n",
    "}\n",
    "for i in range(len(list(models))):\n",
    "    model = list(models.values())[i]\n",
    "    model.fit(X_train,y_train)\n",
    "    y_train_pred = model.predict(X_train)\n",
    "    y_test_pred = model.predict(X_test)\n",
    "    model_train_mae, model_train_rmse, model_train_r2 = evauate_model(y_train,y_train_pred)\n",
    "    model_test_mae, model_test_rmse, model_test_r2 = evauate_model(y_test,y_test_pred)\n",
    "    print(list(models.keys())[i])\n",
    "    print(\"model performance on training set\")\n",
    "    print(\"-Root mean squared error: {:.4f}\".format(model_train_rmse))\n",
    "    print(\"-mean absolute error: {:.4f}\".format(model_train_mae))\n",
    "    print(\"- R2 score: {:.4f}\".format(model_train_r2))\n",
    "    print(\"model performance on testing set\")\n",
    "    print(\"-Root mean squared error: {:.4f}\".format(model_test_rmse))\n",
    "    print(\"-mean absolute error: {:.4f}\".format(model_test_mae))\n",
    "    print(\"- R2 score: {:.4f}\".format(model_test_r2))\n",
    "    print('='*35)\n",
    "    print('\\n')\n",
    "\n",
    "    "
   ]
  },
  {
   "cell_type": "code",
   "execution_count": null,
   "metadata": {},
   "outputs": [],
   "source": []
  }
 ],
 "metadata": {
  "kernelspec": {
   "display_name": "Python 3",
   "language": "python",
   "name": "python3"
  },
  "language_info": {
   "codemirror_mode": {
    "name": "ipython",
    "version": 3
   },
   "file_extension": ".py",
   "mimetype": "text/x-python",
   "name": "python",
   "nbconvert_exporter": "python",
   "pygments_lexer": "ipython3",
   "version": "3.10.5"
  }
 },
 "nbformat": 4,
 "nbformat_minor": 2
}
